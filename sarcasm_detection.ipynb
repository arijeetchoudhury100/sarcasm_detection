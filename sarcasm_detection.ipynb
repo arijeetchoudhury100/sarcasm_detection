{
  "nbformat": 4,
  "nbformat_minor": 0,
  "metadata": {
    "colab": {
      "name": "sarcasm_detection.ipynb",
      "provenance": [],
      "collapsed_sections": []
    },
    "kernelspec": {
      "name": "python3",
      "display_name": "Python 3"
    },
    "accelerator": "GPU"
  },
  "cells": [
    {
      "cell_type": "code",
      "metadata": {
        "id": "Dqg0nHEPGhBG",
        "colab_type": "code",
        "colab": {}
      },
      "source": [
        "import json\n",
        "import os\n",
        "from pydrive.auth import GoogleAuth\n",
        "from pydrive.drive import GoogleDrive\n",
        "from google.colab import auth\n",
        "from oauth2client.client import GoogleCredentials\n",
        "import numpy as np\n",
        "import tensorflow as tf\n",
        "from tensorflow import keras"
      ],
      "execution_count": 0,
      "outputs": []
    },
    {
      "cell_type": "code",
      "metadata": {
        "id": "vjocIPqEG7oU",
        "colab_type": "code",
        "colab": {}
      },
      "source": [
        "#setup google drive credentials\n",
        "auth.authenticate_user()\n",
        "gauth = GoogleAuth()\n",
        "gauth.credentials = GoogleCredentials.get_application_default()\n",
        "drive = GoogleDrive(gauth)"
      ],
      "execution_count": 0,
      "outputs": []
    },
    {
      "cell_type": "code",
      "metadata": {
        "id": "dJA8ZfNf8lDb",
        "colab_type": "code",
        "colab": {}
      },
      "source": [
        "#get glove word embeddings\n",
        "download = drive.CreateFile({'id': '<file id>'})\n",
        "download.GetContentFile('filename')"
      ],
      "execution_count": 0,
      "outputs": []
    },
    {
      "cell_type": "code",
      "metadata": {
        "id": "BU5N15on-Syo",
        "colab_type": "code",
        "colab": {}
      },
      "source": [
        "#get dataset\n",
        "download = drive.CreateFile({'id': '<file id>'})\n",
        "download.GetContentFile('<file name>')"
      ],
      "execution_count": 0,
      "outputs": []
    },
    {
      "cell_type": "code",
      "metadata": {
        "id": "XnzV5v3fJtMl",
        "colab_type": "code",
        "colab": {}
      },
      "source": [
        "def load_data(path):\n",
        "  '''Function to load data.\n",
        "     Data is present in a json file\n",
        "     parameters: filename->path to the json file\n",
        "  '''  \n",
        "  data = []\n",
        "  labels = []\n",
        "  fp = open(path,'r')\n",
        "  for l in fp:\n",
        "    dict_ = json.loads(l)\n",
        "    data.append(dict_['headline'])\n",
        "    labels.append(dict_['is_sarcastic'])\n",
        "  return data,labels"
      ],
      "execution_count": 0,
      "outputs": []
    },
    {
      "cell_type": "code",
      "metadata": {
        "id": "WFQRhTKKKGFS",
        "colab_type": "code",
        "outputId": "25481a0a-3dc2-45a6-8cf9-1c86b7cb1dc4",
        "colab": {
          "base_uri": "https://localhost:8080/",
          "height": 35
        }
      },
      "source": [
        "#load the data\n",
        "data,labels = load_data('<file name>')\n",
        "print('Total no. of samples:',len(data))"
      ],
      "execution_count": 62,
      "outputs": [
        {
          "output_type": "stream",
          "text": [
            "Total no. of samples: 26709\n"
          ],
          "name": "stdout"
        }
      ]
    },
    {
      "cell_type": "code",
      "metadata": {
        "id": "vbexubwJQ_BK",
        "colab_type": "code",
        "colab": {}
      },
      "source": [
        "#split into training and validation sets\n",
        "def split_data(split_factor,data,labels):\n",
        "  '''Function to split the data into training and testing sets\n",
        "     parameters:\n",
        "     split_factor-> fraction of data to be kept as training data\n",
        "     data-> list of news headlines\n",
        "     labels-> corresponding labels\n",
        "  '''\n",
        "  m = len(data) #size of the data\n",
        "  num_train = int(m*split_factor)\n",
        "  training_examples = data[0:num_train]\n",
        "  testing_examples = data[num_train:]\n",
        "  training_labels = labels[0:num_train]\n",
        "  testing_labels = labels[num_train:]\n",
        "  return training_examples,training_labels,testing_examples,testing_labels"
      ],
      "execution_count": 0,
      "outputs": []
    },
    {
      "cell_type": "code",
      "metadata": {
        "id": "bhcpmixIM9JB",
        "colab_type": "code",
        "colab": {}
      },
      "source": [
        "#import tokenizer\n",
        "from tensorflow.keras.preprocessing.text import Tokenizer\n",
        "from tensorflow.keras.preprocessing.sequence import pad_sequences"
      ],
      "execution_count": 0,
      "outputs": []
    },
    {
      "cell_type": "code",
      "metadata": {
        "id": "jDF5bOi7Nq6Z",
        "colab_type": "code",
        "colab": {}
      },
      "source": [
        "#tokenize and pad data\n",
        "max_length = 40 \n",
        "pad = 'post'\n",
        "trunc = 'pre'\n",
        "embedding_dim = 50\n",
        "#generate indices for words(tokens)\n",
        "tokenizer = Tokenizer()\n",
        "tokenizer.fit_on_texts(data)\n",
        "word_to_indices = tokenizer.word_index\n",
        "vocab_size = len(word_to_indices)\n",
        "#convert sentences to sequence of tokens\n",
        "data_sequences = tokenizer.texts_to_sequences(data)\n",
        "padded_sequences = pad_sequences(data_sequences,maxlen=max_length,padding = pad,truncating = trunc)"
      ],
      "execution_count": 0,
      "outputs": []
    },
    {
      "cell_type": "code",
      "metadata": {
        "id": "yYlgUBXzWwbs",
        "colab_type": "code",
        "outputId": "ef55131f-a048-4921-c3fa-c14715b1e651",
        "colab": {
          "base_uri": "https://localhost:8080/",
          "height": 89
        }
      },
      "source": [
        "print(padded_train_sequences.shape)\n",
        "print(padded_test_sequences.shape)\n",
        "print(vocab_size)\n",
        "print(word_to_indices['i'])"
      ],
      "execution_count": 97,
      "outputs": [
        {
          "output_type": "stream",
          "text": [
            "(24038, 150)\n",
            "(2671, 150)\n",
            "29656\n",
            "79\n"
          ],
          "name": "stdout"
        }
      ]
    },
    {
      "cell_type": "code",
      "metadata": {
        "id": "HdVX-TTzPtxX",
        "colab_type": "code",
        "outputId": "bcbab4dd-4eb3-4775-a591-4d0d7a59499e",
        "colab": {
          "base_uri": "https://localhost:8080/",
          "height": 269
        }
      },
      "source": [
        "split_factor = 0.9\n",
        "train_x,train_y,test_x,test_y = split_data(split_factor,padded_sequences,labels)\n",
        "train_y = np.array(train_y)\n",
        "test_y = np.array(test_y)\n",
        "print('no. of training examples=',len(train_x))\n",
        "print('no. of testing examples=',len(test_x))\n",
        "print(train_x)\n",
        "print(train_x[0])\n",
        "print(train_y[0])"
      ],
      "execution_count": 103,
      "outputs": [
        {
          "output_type": "stream",
          "text": [
            "no. of training examples= 24038\n",
            "no. of testing examples= 2671\n",
            "[[  307 15114   678 ...     0     0     0]\n",
            " [    3  8434  3337 ...     0     0     0]\n",
            " [  144   837     1 ...     0     0     0]\n",
            " ...\n",
            " [  858  1028 28116 ...     0     0     0]\n",
            " [   28   193   103 ...     0     0     0]\n",
            " [  236  5048  6740 ...     0     0     0]]\n",
            "[  307 15114   678  3336  2297    47   381  2575 15115     5  2576  8433\n",
            "     0     0     0     0     0     0     0     0     0     0     0     0\n",
            "     0     0     0     0     0     0     0     0     0     0     0     0\n",
            "     0     0     0     0]\n",
            "0\n"
          ],
          "name": "stdout"
        }
      ]
    },
    {
      "cell_type": "code",
      "metadata": {
        "id": "ueLexu1AXWw-",
        "colab_type": "code",
        "colab": {}
      },
      "source": [
        "def load_glove(path):\n",
        "  '''\n",
        "  This function loads the glove vectors into a dictionary\n",
        "  parameters: path->path to the glove vector file\n",
        "  '''\n",
        "  fh = open(path,'r')\n",
        "  word_to_embedding = {}\n",
        "  for line in fh:\n",
        "    line = line.strip().split()\n",
        "    word = line[0]\n",
        "    word_to_embedding[word] = np.array(line[1:],dtype='float32')\n",
        "  fh.close()\n",
        "  return word_to_embedding"
      ],
      "execution_count": 0,
      "outputs": []
    },
    {
      "cell_type": "code",
      "metadata": {
        "id": "Z5mYT4v7GfUa",
        "colab_type": "code",
        "colab": {}
      },
      "source": [
        "word_to_embedding = load_glove('glove.6B.50D.txt')"
      ],
      "execution_count": 0,
      "outputs": []
    },
    {
      "cell_type": "code",
      "metadata": {
        "id": "WdwqePqiClpr",
        "colab_type": "code",
        "outputId": "cdefb565-7721-4596-ed68-d02c0705db72",
        "colab": {
          "base_uri": "https://localhost:8080/",
          "height": 35
        }
      },
      "source": [
        "print(len(word_to_embedding))"
      ],
      "execution_count": 106,
      "outputs": [
        {
          "output_type": "stream",
          "text": [
            "400000\n"
          ],
          "name": "stdout"
        }
      ]
    },
    {
      "cell_type": "code",
      "metadata": {
        "id": "7QJ8r--YCz3F",
        "colab_type": "code",
        "colab": {}
      },
      "source": [
        "def create_embedding_matrix(vocab_size,embedding_dim,word_indices,word_to_embedding):\n",
        "  '''\n",
        "  this function creates an embedding matrix using the glove vectors\n",
        "  parameters:\n",
        "  vocab_size: length of the vocabulary\n",
        "  embedding_dim: length of the glove vectors\n",
        "  word_indices: dictionary containing mapping from words to corresponding indices\n",
        "  word_to_embedding: dictionary containing mapping from words to corresponding embedding\n",
        "  '''\n",
        "  embedding_matrix = np.zeros((vocab_size+1,embedding_dim))\n",
        "  for word,idx in word_indices.items():\n",
        "    if word_to_embedding.get(word) is not None:\n",
        "      embedding_matrix[idx,:] = word_to_embedding[word]\n",
        "  return embedding_matrix"
      ],
      "execution_count": 0,
      "outputs": []
    },
    {
      "cell_type": "code",
      "metadata": {
        "id": "dnZXyFDxFEDB",
        "colab_type": "code",
        "colab": {}
      },
      "source": [
        "#load embedding matrix\n",
        "embedding_matrix = create_embedding_matrix(vocab_size,embedding_dim,word_to_indices,word_to_embedding)"
      ],
      "execution_count": 0,
      "outputs": []
    },
    {
      "cell_type": "markdown",
      "metadata": {
        "id": "Yytsk1LgFNtR",
        "colab_type": "text"
      },
      "source": [
        "print(len(embedding_matrix))"
      ]
    },
    {
      "cell_type": "code",
      "metadata": {
        "id": "aagme373sg9B",
        "colab_type": "code",
        "colab": {}
      },
      "source": [
        "class myCallBack(tf.keras.callbacks.Callback):\n",
        "  def on_epoch_end(self,epoch,logs={}):\n",
        "    if logs.get('accuracy') > 0.95:\n",
        "      self.model.stop_training = True\n",
        "callbacks = myCallBack()"
      ],
      "execution_count": 0,
      "outputs": []
    },
    {
      "cell_type": "code",
      "metadata": {
        "id": "XL62iLgXJmzQ",
        "colab_type": "code",
        "outputId": "06383619-49da-492e-9955-54e8b040297d",
        "colab": {
          "base_uri": "https://localhost:8080/",
          "height": 377
        }
      },
      "source": [
        "#create model\n",
        "model = tf.keras.models.Sequential([\n",
        "      tf.keras.layers.Embedding(vocab_size+1,embedding_dim,input_length=max_length,weights=[embedding_matrix],trainable=False),\n",
        "      tf.keras.layers.LSTM(128,return_sequences=True),\n",
        "      tf.keras.layers.Dropout(0.5),\n",
        "      tf.keras.layers.LSTM(128),\n",
        "      tf.keras.layers.Dropout(0.5),\n",
        "      tf.keras.layers.Dense(1,activation='sigmoid')\n",
        "])\n",
        "opt = tf.keras.optimizers.Adam(lr=0.001,decay=1e-6)\n",
        "model.compile(loss='binary_crossentropy',optimizer=opt,metrics=['accuracy'])\n",
        "model.summary()"
      ],
      "execution_count": 124,
      "outputs": [
        {
          "output_type": "stream",
          "text": [
            "Model: \"sequential_20\"\n",
            "_________________________________________________________________\n",
            "Layer (type)                 Output Shape              Param #   \n",
            "=================================================================\n",
            "embedding_22 (Embedding)     (None, 40, 50)            1482850   \n",
            "_________________________________________________________________\n",
            "lstm_28 (LSTM)               (None, 40, 128)           91648     \n",
            "_________________________________________________________________\n",
            "dropout_35 (Dropout)         (None, 40, 128)           0         \n",
            "_________________________________________________________________\n",
            "lstm_29 (LSTM)               (None, 128)               131584    \n",
            "_________________________________________________________________\n",
            "dropout_36 (Dropout)         (None, 128)               0         \n",
            "_________________________________________________________________\n",
            "dense_20 (Dense)             (None, 1)                 129       \n",
            "=================================================================\n",
            "Total params: 1,706,211\n",
            "Trainable params: 223,361\n",
            "Non-trainable params: 1,482,850\n",
            "_________________________________________________________________\n"
          ],
          "name": "stdout"
        }
      ]
    },
    {
      "cell_type": "code",
      "metadata": {
        "id": "KiXcItaxLQQc",
        "colab_type": "code",
        "outputId": "f396a4f1-55e7-4884-875e-a744acde9e48",
        "colab": {
          "base_uri": "https://localhost:8080/",
          "height": 469
        }
      },
      "source": [
        "#fit the data\n",
        "num_epochs = 50\n",
        "history = model.fit(train_x,train_y,batch_size=32,epochs=num_epochs,validation_data=(test_x,test_y),callbacks=[callbacks])"
      ],
      "execution_count": 127,
      "outputs": [
        {
          "output_type": "stream",
          "text": [
            "Epoch 1/50\n",
            "752/752 [==============================] - 20s 27ms/step - loss: 0.4221 - accuracy: 0.8111 - val_loss: 0.4005 - val_accuracy: 0.8124\n",
            "Epoch 2/50\n",
            "752/752 [==============================] - 19s 26ms/step - loss: 0.3744 - accuracy: 0.8368 - val_loss: 0.3789 - val_accuracy: 0.8315\n",
            "Epoch 3/50\n",
            "752/752 [==============================] - 19s 26ms/step - loss: 0.3395 - accuracy: 0.8544 - val_loss: 0.3643 - val_accuracy: 0.8233\n",
            "Epoch 4/50\n",
            "752/752 [==============================] - 19s 25ms/step - loss: 0.3102 - accuracy: 0.8678 - val_loss: 0.3576 - val_accuracy: 0.8424\n",
            "Epoch 5/50\n",
            "752/752 [==============================] - 19s 26ms/step - loss: 0.2812 - accuracy: 0.8830 - val_loss: 0.3636 - val_accuracy: 0.8416\n",
            "Epoch 6/50\n",
            "752/752 [==============================] - 19s 26ms/step - loss: 0.2574 - accuracy: 0.8958 - val_loss: 0.3427 - val_accuracy: 0.8484\n",
            "Epoch 7/50\n",
            "752/752 [==============================] - 19s 26ms/step - loss: 0.2280 - accuracy: 0.9099 - val_loss: 0.3448 - val_accuracy: 0.8465\n",
            "Epoch 8/50\n",
            "752/752 [==============================] - 19s 25ms/step - loss: 0.2030 - accuracy: 0.9208 - val_loss: 0.3793 - val_accuracy: 0.8480\n",
            "Epoch 9/50\n",
            "752/752 [==============================] - 20s 26ms/step - loss: 0.1794 - accuracy: 0.9303 - val_loss: 0.3888 - val_accuracy: 0.8517\n",
            "Epoch 10/50\n",
            "752/752 [==============================] - 19s 26ms/step - loss: 0.1594 - accuracy: 0.9394 - val_loss: 0.4963 - val_accuracy: 0.8443\n",
            "Epoch 11/50\n",
            "752/752 [==============================] - 19s 26ms/step - loss: 0.1383 - accuracy: 0.9496 - val_loss: 0.4383 - val_accuracy: 0.8536\n",
            "Epoch 12/50\n",
            "752/752 [==============================] - 19s 26ms/step - loss: 0.1166 - accuracy: 0.9577 - val_loss: 0.5102 - val_accuracy: 0.8540\n"
          ],
          "name": "stdout"
        }
      ]
    },
    {
      "cell_type": "code",
      "metadata": {
        "id": "A5KnR0B1OXwV",
        "colab_type": "code",
        "outputId": "3378fb79-a65b-4862-bc37-64cda4b74de6",
        "colab": {
          "base_uri": "https://localhost:8080/",
          "height": 331
        }
      },
      "source": [
        "import matplotlib.pyplot as plt\n",
        "\n",
        "acc=history.history['accuracy']\n",
        "val_acc=history.history['val_accuracy']\n",
        "\n",
        "epochs=range(len(acc))\n",
        "plt.plot(epochs, acc, 'r')\n",
        "plt.plot(epochs, val_acc, 'b')\n",
        "plt.title('Training and validation accuracy')\n",
        "plt.xlabel(\"Epochs\")\n",
        "plt.ylabel(\"Accuracy\")\n",
        "plt.legend([\"Accuracy\", \"Validation Accuracy\"])\n",
        "\n",
        "plt.figure()"
      ],
      "execution_count": 128,
      "outputs": [
        {
          "output_type": "execute_result",
          "data": {
            "text/plain": [
              "<Figure size 432x288 with 0 Axes>"
            ]
          },
          "metadata": {
            "tags": []
          },
          "execution_count": 128
        },
        {
          "output_type": "display_data",
          "data": {
            "image/png": "[encoded data removed]",
            "text/plain": [
              "<Figure size 432x288 with 1 Axes>"
            ]
          },
          "metadata": {
            "tags": [],
            "needs_background": "light"
          }
        },
        {
          "output_type": "display_data",
          "data": {
            "text/plain": [
              "<Figure size 432x288 with 0 Axes>"
            ]
          },
          "metadata": {
            "tags": []
          }
        }
      ]
    },
    {
      "cell_type": "code",
      "metadata": {
        "id": "MqfmdSv-XtRY",
        "colab_type": "code",
        "colab": {}
      },
      "source": [
        ""
      ],
      "execution_count": 0,
      "outputs": []
    }
  ]
}
