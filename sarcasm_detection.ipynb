{
  "nbformat": 4,
  "nbformat_minor": 0,
  "metadata": {
    "colab": {
      "name": "sarcasm_detection.ipynb",
      "provenance": [],
      "collapsed_sections": []
    },
    "kernelspec": {
      "name": "python3",
      "display_name": "Python 3"
    },
    "accelerator": "GPU"
  },
  "cells": [
    {
      "cell_type": "code",
      "metadata": {
        "id": "Dqg0nHEPGhBG",
        "colab_type": "code",
        "colab": {}
      },
      "source": [
        "import json\n",
        "import os\n",
        "from pydrive.auth import GoogleAuth\n",
        "from pydrive.drive import GoogleDrive\n",
        "from google.colab import auth\n",
        "from oauth2client.client import GoogleCredentials\n",
        "import numpy as np\n",
        "import tensorflow as tf\n",
        "from tensorflow import keras"
      ],
      "execution_count": 0,
      "outputs": []
    },
    {
      "cell_type": "code",
      "metadata": {
        "id": "vjocIPqEG7oU",
        "colab_type": "code",
        "colab": {}
      },
      "source": [
        "#setup google drive credentials\n",
        "auth.authenticate_user()\n",
        "gauth = GoogleAuth()\n",
        "gauth.credentials = GoogleCredentials.get_application_default()\n",
        "drive = GoogleDrive(gauth)"
      ],
      "execution_count": 0,
      "outputs": []
    },
    {
      "cell_type": "code",
      "metadata": {
        "id": "dJA8ZfNf8lDb",
        "colab_type": "code",
        "colab": {}
      },
      "source": [
        "#get glove word embeddings\n",
        "download = drive.CreateFile({'id': '1izeajGZxkDzkHTH-HqX18OwU8AoLsLf7'})\n",
        "download.GetContentFile('glove.6B.50D.txt')"
      ],
      "execution_count": 0,
      "outputs": []
    },
    {
      "cell_type": "code",
      "metadata": {
        "id": "BU5N15on-Syo",
        "colab_type": "code",
        "colab": {}
      },
      "source": [
        "#get dataset\n",
        "download = drive.CreateFile({'id': '1JP1EMn4erxGz1lqm5mDnQkj9EuvUIcY3'})\n",
        "download.GetContentFile('Sarcasm_Headlines_Dataset.json')"
      ],
      "execution_count": 0,
      "outputs": []
    },
    {
      "cell_type": "code",
      "metadata": {
        "id": "XnzV5v3fJtMl",
        "colab_type": "code",
        "colab": {}
      },
      "source": [
        "def load_data(path):\n",
        "  '''Function to load data.\n",
        "     Data is present in a json file\n",
        "     parameters: filename->path to the json file\n",
        "  '''  \n",
        "  data = []\n",
        "  labels = []\n",
        "  fp = open(path,'r')\n",
        "  for l in fp:\n",
        "    dict_ = json.loads(l)\n",
        "    data.append(dict_['headline'])\n",
        "    labels.append(dict_['is_sarcastic'])\n",
        "  return data,labels"
      ],
      "execution_count": 0,
      "outputs": []
    },
    {
      "cell_type": "code",
      "metadata": {
        "id": "WFQRhTKKKGFS",
        "colab_type": "code",
        "outputId": "25481a0a-3dc2-45a6-8cf9-1c86b7cb1dc4",
        "colab": {
          "base_uri": "https://localhost:8080/",
          "height": 35
        }
      },
      "source": [
        "#load the data\n",
        "data,labels = load_data('Sarcasm_Headlines_Dataset.json')\n",
        "print('Total no. of samples:',len(data))"
      ],
      "execution_count": 62,
      "outputs": [
        {
          "output_type": "stream",
          "text": [
            "Total no. of samples: 26709\n"
          ],
          "name": "stdout"
        }
      ]
    },
    {
      "cell_type": "code",
      "metadata": {
        "id": "vbexubwJQ_BK",
        "colab_type": "code",
        "colab": {}
      },
      "source": [
        "#split into training and validation sets\n",
        "def split_data(split_factor,data,labels):\n",
        "  '''Function to split the data into training and testing sets\n",
        "     parameters:\n",
        "     split_factor-> fraction of data to be kept as training data\n",
        "     data-> list of news headlines\n",
        "     labels-> corresponding labels\n",
        "  '''\n",
        "  m = len(data) #size of the data\n",
        "  num_train = int(m*split_factor)\n",
        "  training_examples = data[0:num_train]\n",
        "  testing_examples = data[num_train:]\n",
        "  training_labels = labels[0:num_train]\n",
        "  testing_labels = labels[num_train:]\n",
        "  return training_examples,training_labels,testing_examples,testing_labels"
      ],
      "execution_count": 0,
      "outputs": []
    },
    {
      "cell_type": "code",
      "metadata": {
        "id": "bhcpmixIM9JB",
        "colab_type": "code",
        "colab": {}
      },
      "source": [
        "#import tokenizer\n",
        "from tensorflow.keras.preprocessing.text import Tokenizer\n",
        "from tensorflow.keras.preprocessing.sequence import pad_sequences"
      ],
      "execution_count": 0,
      "outputs": []
    },
    {
      "cell_type": "code",
      "metadata": {
        "id": "jDF5bOi7Nq6Z",
        "colab_type": "code",
        "colab": {}
      },
      "source": [
        "#tokenize and pad data\n",
        "max_length = 40 \n",
        "pad = 'post'\n",
        "trunc = 'pre'\n",
        "embedding_dim = 50\n",
        "#generate indices for words(tokens)\n",
        "tokenizer = Tokenizer()\n",
        "tokenizer.fit_on_texts(data)\n",
        "word_to_indices = tokenizer.word_index\n",
        "vocab_size = len(word_to_indices)\n",
        "#convert sentences to sequence of tokens\n",
        "data_sequences = tokenizer.texts_to_sequences(data)\n",
        "padded_sequences = pad_sequences(data_sequences,maxlen=max_length,padding = pad,truncating = trunc)"
      ],
      "execution_count": 0,
      "outputs": []
    },
    {
      "cell_type": "code",
      "metadata": {
        "id": "yYlgUBXzWwbs",
        "colab_type": "code",
        "outputId": "ef55131f-a048-4921-c3fa-c14715b1e651",
        "colab": {
          "base_uri": "https://localhost:8080/",
          "height": 89
        }
      },
      "source": [
        "print(padded_train_sequences.shape)\n",
        "print(padded_test_sequences.shape)\n",
        "print(vocab_size)\n",
        "print(word_to_indices['i'])"
      ],
      "execution_count": 97,
      "outputs": [
        {
          "output_type": "stream",
          "text": [
            "(24038, 150)\n",
            "(2671, 150)\n",
            "29656\n",
            "79\n"
          ],
          "name": "stdout"
        }
      ]
    },
    {
      "cell_type": "code",
      "metadata": {
        "id": "HdVX-TTzPtxX",
        "colab_type": "code",
        "outputId": "bcbab4dd-4eb3-4775-a591-4d0d7a59499e",
        "colab": {
          "base_uri": "https://localhost:8080/",
          "height": 269
        }
      },
      "source": [
        "split_factor = 0.9\n",
        "train_x,train_y,test_x,test_y = split_data(split_factor,padded_sequences,labels)\n",
        "train_y = np.array(train_y)\n",
        "test_y = np.array(test_y)\n",
        "print('no. of training examples=',len(train_x))\n",
        "print('no. of testing examples=',len(test_x))\n",
        "print(train_x)\n",
        "print(train_x[0])\n",
        "print(train_y[0])"
      ],
      "execution_count": 103,
      "outputs": [
        {
          "output_type": "stream",
          "text": [
            "no. of training examples= 24038\n",
            "no. of testing examples= 2671\n",
            "[[  307 15114   678 ...     0     0     0]\n",
            " [    3  8434  3337 ...     0     0     0]\n",
            " [  144   837     1 ...     0     0     0]\n",
            " ...\n",
            " [  858  1028 28116 ...     0     0     0]\n",
            " [   28   193   103 ...     0     0     0]\n",
            " [  236  5048  6740 ...     0     0     0]]\n",
            "[  307 15114   678  3336  2297    47   381  2575 15115     5  2576  8433\n",
            "     0     0     0     0     0     0     0     0     0     0     0     0\n",
            "     0     0     0     0     0     0     0     0     0     0     0     0\n",
            "     0     0     0     0]\n",
            "0\n"
          ],
          "name": "stdout"
        }
      ]
    },
    {
      "cell_type": "code",
      "metadata": {
        "id": "ueLexu1AXWw-",
        "colab_type": "code",
        "colab": {}
      },
      "source": [
        "def load_glove(path):\n",
        "  '''\n",
        "  This function loads the glove vectors into a dictionary\n",
        "  parameters: path->path to the glove vector file\n",
        "  '''\n",
        "  fh = open(path,'r')\n",
        "  word_to_embedding = {}\n",
        "  for line in fh:\n",
        "    line = line.strip().split()\n",
        "    word = line[0]\n",
        "    word_to_embedding[word] = np.array(line[1:],dtype='float32')\n",
        "  fh.close()\n",
        "  return word_to_embedding"
      ],
      "execution_count": 0,
      "outputs": []
    },
    {
      "cell_type": "code",
      "metadata": {
        "id": "Z5mYT4v7GfUa",
        "colab_type": "code",
        "colab": {}
      },
      "source": [
        "word_to_embedding = load_glove('glove.6B.50D.txt')"
      ],
      "execution_count": 0,
      "outputs": []
    },
    {
      "cell_type": "code",
      "metadata": {
        "id": "WdwqePqiClpr",
        "colab_type": "code",
        "outputId": "cdefb565-7721-4596-ed68-d02c0705db72",
        "colab": {
          "base_uri": "https://localhost:8080/",
          "height": 35
        }
      },
      "source": [
        "print(len(word_to_embedding))"
      ],
      "execution_count": 106,
      "outputs": [
        {
          "output_type": "stream",
          "text": [
            "400000\n"
          ],
          "name": "stdout"
        }
      ]
    },
    {
      "cell_type": "code",
      "metadata": {
        "id": "7QJ8r--YCz3F",
        "colab_type": "code",
        "colab": {}
      },
      "source": [
        "def create_embedding_matrix(vocab_size,embedding_dim,word_indices,word_to_embedding):\n",
        "  '''\n",
        "  this function creates an embedding matrix using the glove vectors\n",
        "  parameters:\n",
        "  vocab_size: length of the vocabulary\n",
        "  embedding_dim: length of the glove vectors\n",
        "  word_indices: dictionary containing mapping from words to corresponding indices\n",
        "  word_to_embedding: dictionary containing mapping from words to corresponding embedding\n",
        "  '''\n",
        "  embedding_matrix = np.zeros((vocab_size+1,embedding_dim))\n",
        "  for word,idx in word_indices.items():\n",
        "    if word_to_embedding.get(word) is not None:\n",
        "      embedding_matrix[idx,:] = word_to_embedding[word]\n",
        "  return embedding_matrix"
      ],
      "execution_count": 0,
      "outputs": []
    },
    {
      "cell_type": "code",
      "metadata": {
        "id": "dnZXyFDxFEDB",
        "colab_type": "code",
        "colab": {}
      },
      "source": [
        "#load embedding matrix\n",
        "embedding_matrix = create_embedding_matrix(vocab_size,embedding_dim,word_to_indices,word_to_embedding)"
      ],
      "execution_count": 0,
      "outputs": []
    },
    {
      "cell_type": "markdown",
      "metadata": {
        "id": "Yytsk1LgFNtR",
        "colab_type": "text"
      },
      "source": [
        "print(len(embedding_matrix))"
      ]
    },
    {
      "cell_type": "code",
      "metadata": {
        "id": "aagme373sg9B",
        "colab_type": "code",
        "colab": {}
      },
      "source": [
        "class myCallBack(tf.keras.callbacks.Callback):\n",
        "  def on_epoch_end(self,epoch,logs={}):\n",
        "    if logs.get('acc') > 0.95:\n",
        "      self.model.stop_training = True\n",
        "callbacks = myCallBack()"
      ],
      "execution_count": 0,
      "outputs": []
    },
    {
      "cell_type": "code",
      "metadata": {
        "id": "XL62iLgXJmzQ",
        "colab_type": "code",
        "outputId": "3f2aea8d-0fb3-49c6-8d23-0c2e8140f52b",
        "colab": {
          "base_uri": "https://localhost:8080/",
          "height": 305
        }
      },
      "source": [
        "#create model\n",
        "model = tf.keras.models.Sequential([\n",
        "      tf.keras.layers.Embedding(vocab_size+1,embedding_dim,input_length=max_length,weights=[embedding_matrix],trainable=False),\n",
        "      tf.keras.layers.LSTM(64),\n",
        "      tf.keras.layers.Dropout(0.5),\n",
        "      tf.keras.layers.Dense(1,activation='sigmoid')\n",
        "])\n",
        "opt = tf.keras.optimizers.SGD(lr=0.01,momentum=0.9,decay=1e-6)\n",
        "model.compile(loss='binary_crossentropy',optimizer=opt,metrics=['accuracy'])\n",
        "model.summary()"
      ],
      "execution_count": 110,
      "outputs": [
        {
          "output_type": "stream",
          "text": [
            "Model: \"sequential_17\"\n",
            "_________________________________________________________________\n",
            "Layer (type)                 Output Shape              Param #   \n",
            "=================================================================\n",
            "embedding_18 (Embedding)     (None, 40, 50)            1482850   \n",
            "_________________________________________________________________\n",
            "lstm_24 (LSTM)               (None, 64)                29440     \n",
            "_________________________________________________________________\n",
            "dropout_31 (Dropout)         (None, 64)                0         \n",
            "_________________________________________________________________\n",
            "dense_17 (Dense)             (None, 1)                 65        \n",
            "=================================================================\n",
            "Total params: 1,512,355\n",
            "Trainable params: 29,505\n",
            "Non-trainable params: 1,482,850\n",
            "_________________________________________________________________\n"
          ],
          "name": "stdout"
        }
      ]
    },
    {
      "cell_type": "code",
      "metadata": {
        "id": "KiXcItaxLQQc",
        "colab_type": "code",
        "outputId": "d40c0a4d-94b1-481f-ea3e-bfe224888963",
        "colab": {
          "base_uri": "https://localhost:8080/",
          "height": 1000
        }
      },
      "source": [
        "#fit the data\n",
        "num_epochs = 50\n",
        "history = model.fit(train_x,train_y,batch_size=32,epochs=num_epochs,\n",
        "                    validation_data=(test_x,test_y),validation_batch_size=16)"
      ],
      "execution_count": 111,
      "outputs": [
        {
          "output_type": "stream",
          "text": [
            "Epoch 1/50\n",
            "752/752 [==============================] - 9s 13ms/step - loss: 0.6869 - accuracy: 0.5589 - val_loss: 0.6825 - val_accuracy: 0.5751\n",
            "Epoch 2/50\n",
            "752/752 [==============================] - 9s 12ms/step - loss: 0.6865 - accuracy: 0.5588 - val_loss: 0.6815 - val_accuracy: 0.5751\n",
            "Epoch 3/50\n",
            "752/752 [==============================] - 9s 12ms/step - loss: 0.6866 - accuracy: 0.5608 - val_loss: 0.6795 - val_accuracy: 0.5751\n",
            "Epoch 4/50\n",
            "752/752 [==============================] - 9s 12ms/step - loss: 0.6611 - accuracy: 0.6107 - val_loss: 0.6126 - val_accuracy: 0.6874\n",
            "Epoch 5/50\n",
            "752/752 [==============================] - 9s 12ms/step - loss: 0.6207 - accuracy: 0.6719 - val_loss: 0.6022 - val_accuracy: 0.6900\n",
            "Epoch 6/50\n",
            "752/752 [==============================] - 9s 12ms/step - loss: 0.5590 - accuracy: 0.7303 - val_loss: 0.6447 - val_accuracy: 0.6664\n",
            "Epoch 7/50\n",
            "752/752 [==============================] - 9s 12ms/step - loss: 0.5197 - accuracy: 0.7565 - val_loss: 0.4824 - val_accuracy: 0.7829\n",
            "Epoch 8/50\n",
            "752/752 [==============================] - 9s 12ms/step - loss: 0.4696 - accuracy: 0.7860 - val_loss: 0.4383 - val_accuracy: 0.7945\n",
            "Epoch 9/50\n",
            "752/752 [==============================] - 9s 12ms/step - loss: 0.4393 - accuracy: 0.7982 - val_loss: 0.4340 - val_accuracy: 0.8034\n",
            "Epoch 10/50\n",
            "752/752 [==============================] - 9s 12ms/step - loss: 0.4081 - accuracy: 0.8180 - val_loss: 0.4589 - val_accuracy: 0.7727\n",
            "Epoch 11/50\n",
            "752/752 [==============================] - 9s 12ms/step - loss: 0.3942 - accuracy: 0.8240 - val_loss: 0.4453 - val_accuracy: 0.7930\n",
            "Epoch 12/50\n",
            "752/752 [==============================] - 9s 12ms/step - loss: 0.3745 - accuracy: 0.8346 - val_loss: 0.3983 - val_accuracy: 0.8248\n",
            "Epoch 13/50\n",
            "752/752 [==============================] - 9s 12ms/step - loss: 0.3576 - accuracy: 0.8446 - val_loss: 0.3773 - val_accuracy: 0.8319\n",
            "Epoch 14/50\n",
            "752/752 [==============================] - 9s 12ms/step - loss: 0.3465 - accuracy: 0.8509 - val_loss: 0.3861 - val_accuracy: 0.8083\n",
            "Epoch 15/50\n",
            "752/752 [==============================] - 9s 12ms/step - loss: 0.3425 - accuracy: 0.8546 - val_loss: 0.3612 - val_accuracy: 0.8319\n",
            "Epoch 16/50\n",
            "752/752 [==============================] - 9s 12ms/step - loss: 0.3280 - accuracy: 0.8590 - val_loss: 0.3955 - val_accuracy: 0.8315\n",
            "Epoch 17/50\n",
            "752/752 [==============================] - 9s 12ms/step - loss: 0.3158 - accuracy: 0.8682 - val_loss: 0.3498 - val_accuracy: 0.8480\n",
            "Epoch 18/50\n",
            "752/752 [==============================] - 9s 12ms/step - loss: 0.3092 - accuracy: 0.8708 - val_loss: 0.3432 - val_accuracy: 0.8480\n",
            "Epoch 19/50\n",
            "752/752 [==============================] - 9s 12ms/step - loss: 0.3002 - accuracy: 0.8749 - val_loss: 0.4106 - val_accuracy: 0.8248\n",
            "Epoch 20/50\n",
            "752/752 [==============================] - 9s 12ms/step - loss: 0.2933 - accuracy: 0.8784 - val_loss: 0.3622 - val_accuracy: 0.8379\n",
            "Epoch 21/50\n",
            "752/752 [==============================] - 9s 12ms/step - loss: 0.2855 - accuracy: 0.8826 - val_loss: 0.3538 - val_accuracy: 0.8398\n",
            "Epoch 22/50\n",
            "752/752 [==============================] - 9s 12ms/step - loss: 0.2787 - accuracy: 0.8843 - val_loss: 0.3425 - val_accuracy: 0.8446\n",
            "Epoch 23/50\n",
            "752/752 [==============================] - 9s 12ms/step - loss: 0.2718 - accuracy: 0.8893 - val_loss: 0.3476 - val_accuracy: 0.8428\n",
            "Epoch 24/50\n",
            "752/752 [==============================] - 9s 12ms/step - loss: 0.2694 - accuracy: 0.8881 - val_loss: 0.3441 - val_accuracy: 0.8469\n",
            "Epoch 25/50\n",
            "752/752 [==============================] - 9s 12ms/step - loss: 0.2583 - accuracy: 0.8949 - val_loss: 0.3822 - val_accuracy: 0.8461\n",
            "Epoch 26/50\n",
            "752/752 [==============================] - 9s 12ms/step - loss: 0.2494 - accuracy: 0.8985 - val_loss: 0.3500 - val_accuracy: 0.8469\n",
            "Epoch 27/50\n",
            "752/752 [==============================] - 9s 12ms/step - loss: 0.2474 - accuracy: 0.8981 - val_loss: 0.3477 - val_accuracy: 0.8469\n",
            "Epoch 28/50\n",
            "752/752 [==============================] - 9s 12ms/step - loss: 0.2387 - accuracy: 0.9031 - val_loss: 0.3589 - val_accuracy: 0.8472\n",
            "Epoch 29/50\n",
            "752/752 [==============================] - 9s 12ms/step - loss: 0.2323 - accuracy: 0.9057 - val_loss: 0.3620 - val_accuracy: 0.8517\n",
            "Epoch 30/50\n",
            "752/752 [==============================] - 9s 12ms/step - loss: 0.2327 - accuracy: 0.9079 - val_loss: 0.3551 - val_accuracy: 0.8491\n",
            "Epoch 31/50\n",
            "752/752 [==============================] - 9s 12ms/step - loss: 0.2233 - accuracy: 0.9122 - val_loss: 0.4223 - val_accuracy: 0.8491\n",
            "Epoch 32/50\n",
            "752/752 [==============================] - 9s 12ms/step - loss: 0.2159 - accuracy: 0.9147 - val_loss: 0.4251 - val_accuracy: 0.8443\n",
            "Epoch 33/50\n",
            "752/752 [==============================] - 10s 13ms/step - loss: 0.2051 - accuracy: 0.9190 - val_loss: 0.3605 - val_accuracy: 0.8495\n",
            "Epoch 34/50\n",
            "752/752 [==============================] - 9s 12ms/step - loss: 0.2043 - accuracy: 0.9196 - val_loss: 0.4080 - val_accuracy: 0.8401\n",
            "Epoch 35/50\n",
            "752/752 [==============================] - 9s 12ms/step - loss: 0.2059 - accuracy: 0.9199 - val_loss: 0.4016 - val_accuracy: 0.8401\n",
            "Epoch 36/50\n",
            "752/752 [==============================] - 9s 12ms/step - loss: 0.1975 - accuracy: 0.9229 - val_loss: 0.3959 - val_accuracy: 0.8379\n",
            "Epoch 37/50\n",
            "752/752 [==============================] - 9s 12ms/step - loss: 0.1875 - accuracy: 0.9268 - val_loss: 0.3877 - val_accuracy: 0.8547\n",
            "Epoch 38/50\n",
            "752/752 [==============================] - 9s 12ms/step - loss: 0.1807 - accuracy: 0.9310 - val_loss: 0.4058 - val_accuracy: 0.8472\n",
            "Epoch 39/50\n",
            "752/752 [==============================] - 9s 12ms/step - loss: 0.1716 - accuracy: 0.9355 - val_loss: 0.4208 - val_accuracy: 0.8506\n",
            "Epoch 40/50\n",
            "752/752 [==============================] - 9s 12ms/step - loss: 0.1704 - accuracy: 0.9361 - val_loss: 0.4061 - val_accuracy: 0.8510\n",
            "Epoch 41/50\n",
            "752/752 [==============================] - 9s 12ms/step - loss: 0.1629 - accuracy: 0.9380 - val_loss: 0.4741 - val_accuracy: 0.8379\n",
            "Epoch 42/50\n",
            "752/752 [==============================] - 9s 12ms/step - loss: 0.1636 - accuracy: 0.9388 - val_loss: 0.4655 - val_accuracy: 0.8405\n",
            "Epoch 43/50\n",
            "752/752 [==============================] - 9s 12ms/step - loss: 0.1576 - accuracy: 0.9407 - val_loss: 0.4742 - val_accuracy: 0.8300\n",
            "Epoch 44/50\n",
            "752/752 [==============================] - 9s 12ms/step - loss: 0.1544 - accuracy: 0.9426 - val_loss: 0.4818 - val_accuracy: 0.8424\n",
            "Epoch 45/50\n",
            "752/752 [==============================] - 9s 12ms/step - loss: 0.1495 - accuracy: 0.9456 - val_loss: 0.5013 - val_accuracy: 0.8446\n",
            "Epoch 46/50\n",
            "752/752 [==============================] - 9s 12ms/step - loss: 0.1455 - accuracy: 0.9479 - val_loss: 0.4620 - val_accuracy: 0.8443\n",
            "Epoch 47/50\n",
            "752/752 [==============================] - 9s 12ms/step - loss: 0.1361 - accuracy: 0.9517 - val_loss: 0.4398 - val_accuracy: 0.8398\n",
            "Epoch 48/50\n",
            "752/752 [==============================] - 9s 12ms/step - loss: 0.1310 - accuracy: 0.9529 - val_loss: 0.4603 - val_accuracy: 0.8383\n",
            "Epoch 49/50\n",
            "752/752 [==============================] - 9s 12ms/step - loss: 0.1277 - accuracy: 0.9537 - val_loss: 0.4665 - val_accuracy: 0.8446\n",
            "Epoch 50/50\n",
            "752/752 [==============================] - 9s 12ms/step - loss: 0.1237 - accuracy: 0.9558 - val_loss: 0.5136 - val_accuracy: 0.8386\n"
          ],
          "name": "stdout"
        }
      ]
    },
    {
      "cell_type": "code",
      "metadata": {
        "id": "A5KnR0B1OXwV",
        "colab_type": "code",
        "outputId": "08f5bdc7-c579-44cf-da7c-46cc3f4d5460",
        "colab": {
          "base_uri": "https://localhost:8080/",
          "height": 331
        }
      },
      "source": [
        "import matplotlib.pyplot as plt\n",
        "\n",
        "acc=history.history['accuracy']\n",
        "val_acc=history.history['val_accuracy']\n",
        "\n",
        "epochs=range(len(acc))\n",
        "plt.plot(epochs, acc, 'r')\n",
        "plt.plot(epochs, val_acc, 'b')\n",
        "plt.title('Training and validation accuracy')\n",
        "plt.xlabel(\"Epochs\")\n",
        "plt.ylabel(\"Accuracy\")\n",
        "plt.legend([\"Accuracy\", \"Validation Accuracy\"])\n",
        "\n",
        "plt.figure()"
      ],
      "execution_count": 114,
      "outputs": [
        {
          "output_type": "execute_result",
          "data": {
            "text/plain": [
              "<Figure size 432x288 with 0 Axes>"
            ]
          },
          "metadata": {
            "tags": []
          },
          "execution_count": 114
        },
        {
          "output_type": "display_data",
          "data": {
            "image/png": "[encoded data removed]",
            "text/plain": [
              "<Figure size 432x288 with 1 Axes>"
            ]
          },
          "metadata": {
            "tags": [],
            "needs_background": "light"
          }
        },
        {
          "output_type": "display_data",
          "data": {
            "text/plain": [
              "<Figure size 432x288 with 0 Axes>"
            ]
          },
          "metadata": {
            "tags": []
          }
        }
      ]
    },
    {
      "cell_type": "code",
      "metadata": {
        "id": "MqfmdSv-XtRY",
        "colab_type": "code",
        "colab": {}
      },
      "source": [
        ""
      ],
      "execution_count": 0,
      "outputs": []
    }
  ]
}